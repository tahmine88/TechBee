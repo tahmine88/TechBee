{
  "cells": [
    {
      "cell_type": "code",
      "execution_count": 12,
      "metadata": {
        "id": "EslfqTcr91fr"
      },
      "outputs": [],
      "source": [
        "import os\n",
        "import shutil\n",
        "from sklearn.model_selection import train_test_split\n"
      ]
    },
    {
      "cell_type": "code",
      "execution_count": 10,
      "metadata": {
        "id": "tj4cYdxo-AY5"
      },
      "outputs": [],
      "source": [
        "def split_data(source, train_size=0.7, val_size=0.10, test_size=0.2):\n",
        "    # Ensure the sizes approximately sum to 1\n",
        "    assert (train_size + val_size + test_size) == 1\n",
        "\n",
        "    # Get all filenames in the current category directory\n",
        "    all_files = [f for f in os.listdir(source) if os.path.isfile(os.path.join(source, f))]\n",
        "\n",
        "    # Split data into training and temporary set (temp set will be split into validation and test)\n",
        "    train_files, temp_files = train_test_split(all_files, train_size=train_size)\n",
        "\n",
        "    # Split temporary set into validation and test sets\n",
        "    val_files, test_files = train_test_split(temp_files, test_size=test_size / (test_size + val_size))\n",
        "\n",
        "    return train_files, val_files, test_files\n"
      ]
    },
    {
      "cell_type": "code",
      "execution_count": 13,
      "metadata": {
        "colab": {
          "base_uri": "https://localhost:8080/"
        },
        "id": "xIfKnsQ1-9Ja",
        "outputId": "f4736e6c-1877-4b7c-a30b-eb7e20955903"
      },
      "outputs": [
        {
          "name": "stdout",
          "output_type": "stream",
          "text": [
            "Data split into train, val, and test directories.\n"
          ]
        }
      ],
      "source": [
        "base_dir = '/content/dataset/bee_dataset'\n",
        "categories = ['cooling', 'pollen', 'varroa', 'wasps']\n",
        "\n",
        "# Directory setup for the split\n",
        "train_dir = os.path.join(base_dir, 'train')\n",
        "val_dir = os.path.join(base_dir, 'val')\n",
        "test_dir = os.path.join(base_dir, 'test')\n",
        "\n",
        "# Create directories\n",
        "for dir in [train_dir, val_dir, test_dir]:\n",
        "    for category in categories:\n",
        "        os.makedirs(os.path.join(dir, category), exist_ok=True)\n",
        "\n",
        "# Process each category\n",
        "for category in categories:\n",
        "    source_dir = os.path.join(base_dir, category)\n",
        "    train_files, val_files, test_files = split_data(source_dir)\n",
        "\n",
        "    # Function to copy files to a target directory\n",
        "    def copy_files(files, source, target):\n",
        "        for file in files:\n",
        "            shutil.copy(os.path.join(source, file), os.path.join(target, file))\n",
        "\n",
        "    # Copy files to their respective directories\n",
        "    copy_files(train_files, source_dir, os.path.join(train_dir, category))\n",
        "    copy_files(val_files, source_dir, os.path.join(val_dir, category))\n",
        "    copy_files(test_files, source_dir, os.path.join(test_dir, category))\n",
        "\n",
        "print(\"Data split into train, val, and test directories.\")\n"
      ]
    },
    {
      "cell_type": "code",
      "execution_count": 14,
      "metadata": {
        "colab": {
          "base_uri": "https://localhost:8080/"
        },
        "id": "eUOm6GEv-Faz",
        "outputId": "c65f04b7-361f-4e0b-f174-92ac94729c5f"
      },
      "outputs": [
        {
          "name": "stdout",
          "output_type": "stream",
          "text": [
            "Data split into train, val, and test directories.\n"
          ]
        }
      ],
      "source": [
        "base_dir = '/content/dataset/bee_dataset'\n",
        "categories = ['cooling', 'pollen', 'varroa', 'wasps']\n",
        "\n",
        "# Directory setup for the split\n",
        "train_dir = os.path.join(base_dir, 'train')\n",
        "val_dir = os.path.join(base_dir, 'val')\n",
        "test_dir = os.path.join(base_dir, 'test')\n",
        "\n",
        "# Create directories\n",
        "for dir in [train_dir, val_dir, test_dir]:\n",
        "    for category in categories:\n",
        "        os.makedirs(os.path.join(dir, category), exist_ok=True)\n",
        "\n",
        "# Process each category\n",
        "for category in categories:\n",
        "    source_dir = os.path.join(base_dir, category)\n",
        "    train_files, val_files, test_files = split_data(source_dir)\n",
        "\n",
        "    # Function to copy files to a target directory\n",
        "    def copy_files(files, source, target):\n",
        "        for file in files:\n",
        "            shutil.copy(os.path.join(source, file), os.path.join(target, file))\n",
        "\n",
        "    # Copy files to their respective directories\n",
        "    copy_files(train_files, source_dir, os.path.join(train_dir, category))\n",
        "    copy_files(val_files, source_dir, os.path.join(val_dir, category))\n",
        "    copy_files(test_files, source_dir, os.path.join(test_dir, category))\n",
        "\n",
        "print(\"Data split into train, val, and test directories.\")\n"
      ]
    },
    {
      "cell_type": "code",
      "execution_count": 4,
      "metadata": {
        "colab": {
          "base_uri": "https://localhost:8080/"
        },
        "id": "1IPP6nEu8Mg3",
        "outputId": "8ede4bc9-cc5a-4e00-c579-01a1e311a02e"
      },
      "outputs": [
        {
          "name": "stdout",
          "output_type": "stream",
          "text": [
            "\u001b[0m\u001b[01;34mcooling\u001b[0m/  \u001b[01;34mpollen\u001b[0m/  \u001b[01;34mvarroa\u001b[0m/  \u001b[01;34mwasps\u001b[0m/\n"
          ]
        }
      ],
      "source": [
        "ls /content/dataset/bee_dataset"
      ]
    },
    {
      "cell_type": "code",
      "execution_count": 5,
      "metadata": {
        "id": "-38v-RgH8sBp"
      },
      "outputs": [],
      "source": [
        "import os\n",
        "import tensorflow as tf\n",
        "from tensorflow.keras.models import Sequential\n",
        "from tensorflow.keras.layers import Conv2D, MaxPooling2D, Flatten, Dense, Dropout\n",
        "from tensorflow.keras.preprocessing.image import ImageDataGenerator\n"
      ]
    },
    {
      "cell_type": "code",
      "execution_count": 15,
      "metadata": {
        "colab": {
          "base_uri": "https://localhost:8080/"
        },
        "id": "XQAqwysU8th6",
        "outputId": "ec7ecc28-3aa3-4428-c6d8-c3a621d182c6"
      },
      "outputs": [
        {
          "name": "stdout",
          "output_type": "stream",
          "text": [
            "Found 2721 images belonging to 4 classes.\n",
            "Found 573 images belonging to 4 classes.\n",
            "Found 1104 images belonging to 4 classes.\n"
          ]
        }
      ],
      "source": [
        "# Setup data generators\n",
        "datagen = ImageDataGenerator(rescale=1./255)\n",
        "\n",
        "train_generator = datagen.flow_from_directory(\n",
        "    '/content/dataset/bee_dataset/train',\n",
        "    target_size=(150, 150),\n",
        "    batch_size=32,\n",
        "    class_mode='categorical')\n",
        "\n",
        "validation_generator = datagen.flow_from_directory(\n",
        "    '/content/dataset/bee_dataset/val',\n",
        "    target_size=(150, 150),\n",
        "    batch_size=32,\n",
        "    class_mode='categorical')\n",
        "\n",
        "test_generator = datagen.flow_from_directory(\n",
        "    '/content/dataset/bee_dataset/test',\n",
        "    target_size=(150, 150),\n",
        "    batch_size=32,\n",
        "    class_mode='categorical',\n",
        "    shuffle=False)  # No need to shuffle the test data\n"
      ]
    },
    {
      "cell_type": "code",
      "execution_count": 45,
      "metadata": {
        "id": "r2AXG4Vp87z3"
      },
      "outputs": [],
      "source": [
        "model = Sequential([\n",
        "    Conv2D(32, (3, 3), activation='relu', input_shape=(150, 150, 3)),\n",
        "    MaxPooling2D(2, 2),\n",
        "    Conv2D(64, (3, 3), activation='relu'),\n",
        "    MaxPooling2D(2, 2),\n",
        "    Conv2D(128, (3, 3), activation='relu'),\n",
        "    MaxPooling2D(2, 2),\n",
        "    Conv2D(128, (3, 3), activation='relu'),\n",
        "    MaxPooling2D(2, 2),\n",
        "    Flatten(),\n",
        "    Dropout(0.5),\n",
        "    Dense(512, activation='relu'),\n",
        "    Dense(4, activation='softmax')  # Use softmax for multi-class classification\n",
        "])\n",
        "\n",
        "model.compile(loss='categorical_crossentropy',\n",
        "              optimizer='rmsprop',\n",
        "              metrics=['accuracy'])\n"
      ]
    },
    {
      "cell_type": "code",
      "execution_count": 46,
      "metadata": {
        "colab": {
          "base_uri": "https://localhost:8080/"
        },
        "id": "N3jKH-15AOEm",
        "outputId": "2f00036b-cf42-4b6c-f30d-775777500795"
      },
      "outputs": [
        {
          "name": "stdout",
          "output_type": "stream",
          "text": [
            "Epoch 1/20\n",
            "85/85 [==============================] - 6s 60ms/step - loss: 1.1817 - accuracy: 0.4615 - val_loss: 0.7569 - val_accuracy: 0.7400\n",
            "Epoch 2/20\n",
            "85/85 [==============================] - 5s 58ms/step - loss: 0.5755 - accuracy: 0.7865 - val_loss: 0.8310 - val_accuracy: 0.6806\n",
            "Epoch 3/20\n",
            "85/85 [==============================] - 6s 71ms/step - loss: 0.4087 - accuracy: 0.8598 - val_loss: 0.2469 - val_accuracy: 0.9162\n",
            "Epoch 4/20\n",
            "85/85 [==============================] - 5s 58ms/step - loss: 0.2698 - accuracy: 0.9007 - val_loss: 0.1404 - val_accuracy: 0.9476\n",
            "Epoch 5/20\n",
            "85/85 [==============================] - 6s 65ms/step - loss: 0.2192 - accuracy: 0.9189 - val_loss: 0.1451 - val_accuracy: 0.9476\n",
            "Epoch 6/20\n",
            "85/85 [==============================] - 7s 79ms/step - loss: 0.1615 - accuracy: 0.9331 - val_loss: 0.1155 - val_accuracy: 0.9476\n",
            "Epoch 7/20\n",
            "85/85 [==============================] - 7s 80ms/step - loss: 0.1745 - accuracy: 0.9338 - val_loss: 0.1323 - val_accuracy: 0.9476\n",
            "Epoch 8/20\n",
            "85/85 [==============================] - 7s 77ms/step - loss: 0.1354 - accuracy: 0.9464 - val_loss: 0.1097 - val_accuracy: 0.9581\n",
            "Epoch 9/20\n",
            "85/85 [==============================] - 6s 66ms/step - loss: 0.1309 - accuracy: 0.9494 - val_loss: 0.1354 - val_accuracy: 0.9424\n",
            "Epoch 10/20\n",
            "85/85 [==============================] - 5s 60ms/step - loss: 0.1243 - accuracy: 0.9528 - val_loss: 0.0738 - val_accuracy: 0.9564\n",
            "Epoch 11/20\n",
            "85/85 [==============================] - 6s 71ms/step - loss: 0.1131 - accuracy: 0.9483 - val_loss: 0.0767 - val_accuracy: 0.9494\n",
            "Epoch 12/20\n",
            "85/85 [==============================] - 5s 58ms/step - loss: 0.1017 - accuracy: 0.9520 - val_loss: 0.1042 - val_accuracy: 0.9494\n",
            "Epoch 13/20\n",
            "85/85 [==============================] - 6s 71ms/step - loss: 0.1114 - accuracy: 0.9539 - val_loss: 0.0742 - val_accuracy: 0.9651\n",
            "Epoch 14/20\n",
            "85/85 [==============================] - 5s 63ms/step - loss: 0.0942 - accuracy: 0.9539 - val_loss: 0.0753 - val_accuracy: 0.9581\n",
            "Epoch 15/20\n",
            "85/85 [==============================] - 6s 73ms/step - loss: 0.0936 - accuracy: 0.9580 - val_loss: 0.0813 - val_accuracy: 0.9476\n",
            "Epoch 16/20\n",
            "85/85 [==============================] - 5s 57ms/step - loss: 0.0846 - accuracy: 0.9583 - val_loss: 0.0878 - val_accuracy: 0.9442\n",
            "Epoch 17/20\n",
            "85/85 [==============================] - 6s 74ms/step - loss: 0.0832 - accuracy: 0.9576 - val_loss: 0.0980 - val_accuracy: 0.9459\n",
            "Epoch 18/20\n",
            "85/85 [==============================] - 6s 65ms/step - loss: 0.0932 - accuracy: 0.9565 - val_loss: 0.0946 - val_accuracy: 0.9546\n",
            "Epoch 19/20\n",
            "85/85 [==============================] - 6s 72ms/step - loss: 0.0841 - accuracy: 0.9602 - val_loss: 0.0692 - val_accuracy: 0.9564\n",
            "Epoch 20/20\n",
            "85/85 [==============================] - 5s 58ms/step - loss: 0.0762 - accuracy: 0.9643 - val_loss: 0.0758 - val_accuracy: 0.9651\n"
          ]
        }
      ],
      "source": [
        "history = model.fit(\n",
        "    train_generator,\n",
        "    steps_per_epoch=85,  # Depends on the size of your dataset\n",
        "    epochs=20,\n",
        "    validation_data=validation_generator,\n",
        "    validation_steps=18)  # Depends on the size of your validation dataset\n"
      ]
    },
    {
      "cell_type": "code",
      "execution_count": 47,
      "metadata": {
        "colab": {
          "base_uri": "https://localhost:8080/"
        },
        "id": "cx0NRv0OBg9B",
        "outputId": "1e0283d7-d2db-47da-ba97-d1f02a248fe4"
      },
      "outputs": [
        {
          "name": "stdout",
          "output_type": "stream",
          "text": [
            "35/35 [==============================] - 2s 44ms/step - loss: 0.0827 - accuracy: 0.9629\n",
            "Test Accuracy: 0.9628623127937317\n"
          ]
        }
      ],
      "source": [
        "test_loss, test_accuracy = model.evaluate(test_generator, steps=35)\n",
        "print(\"Test Accuracy:\", test_accuracy)\n",
        "\n",
        "## rmsprop\n",
        "# 35/35 [==============================] - 2s 55ms/step - loss: 0.0635 - accuracy: 0.9692\n",
        "# Test Accuracy: 0.9692028760910034"
      ]
    },
    {
      "cell_type": "code",
      "execution_count": 27,
      "metadata": {
        "id": "AcMwTIsNC7iy"
      },
      "outputs": [],
      "source": [
        "from sklearn.metrics import classification_report, confusion_matrix\n",
        "import numpy as np\n"
      ]
    },
    {
      "cell_type": "code",
      "execution_count": 28,
      "metadata": {
        "colab": {
          "base_uri": "https://localhost:8080/"
        },
        "id": "7B3zw0v2CQ38",
        "outputId": "4acb277d-7aea-4dfa-fe2d-0aa9bd1866ee"
      },
      "outputs": [
        {
          "name": "stdout",
          "output_type": "stream",
          "text": [
            "35/35 [==============================] - 2s 46ms/step\n"
          ]
        }
      ],
      "source": [
        "# Reset the test generator\n",
        "test_generator.reset()\n",
        "\n",
        "# Get the predictions from the model\n",
        "pred_probs = model.predict(test_generator, steps=35)\n",
        "pred_labels = np.argmax(pred_probs, axis=1)\n",
        "\n",
        "# Get the true labels\n",
        "true_labels = test_generator.classes\n",
        "\n",
        "# Assuming that test_generator.class_indices is available\n",
        "class_labels = list(test_generator.class_indices.keys())  # This will help in labeling the confusion matrix\n"
      ]
    },
    {
      "cell_type": "code",
      "execution_count": 29,
      "metadata": {
        "colab": {
          "base_uri": "https://localhost:8080/"
        },
        "id": "qM0EWbpSDFQm",
        "outputId": "4bb80ce0-85c9-4214-f304-916e1fafbce5"
      },
      "outputs": [
        {
          "name": "stdout",
          "output_type": "stream",
          "text": [
            "Classification Report:\n",
            "              precision    recall  f1-score   support\n",
            "\n",
            "     cooling       0.97      0.91      0.94       281\n",
            "      pollen       0.95      0.99      0.97       332\n",
            "      varroa       0.97      0.97      0.97       220\n",
            "       wasps       1.00      1.00      1.00       271\n",
            "\n",
            "    accuracy                           0.97      1104\n",
            "   macro avg       0.97      0.97      0.97      1104\n",
            "weighted avg       0.97      0.97      0.97      1104\n",
            "\n"
          ]
        }
      ],
      "source": [
        "print(\"Classification Report:\")\n",
        "print(classification_report(true_labels, pred_labels, target_names=class_labels))\n"
      ]
    },
    {
      "cell_type": "code",
      "execution_count": 35,
      "metadata": {
        "colab": {
          "base_uri": "https://localhost:8080/"
        },
        "id": "qDsir5FwEXyR",
        "outputId": "14f8ff2b-f605-4dd2-f0ea-61d4a004f4f2"
      },
      "outputs": [
        {
          "name": "stdout",
          "output_type": "stream",
          "text": [
            "Confusion Matrix:\n",
            "[[257  18   6   0]\n",
            " [  2 330   0   0]\n",
            " [  7   0 213   0]\n",
            " [  0   1   0 270]]\n"
          ]
        }
      ],
      "source": [
        "conf_matrix = confusion_matrix(true_labels, pred_labels)\n",
        "print(\"Confusion Matrix:\")\n",
        "print(conf_matrix)\n"
      ]
    },
    {
      "cell_type": "code",
      "execution_count": 38,
      "metadata": {
        "colab": {
          "base_uri": "https://localhost:8080/",
          "height": 641
        },
        "id": "sDE59Mq2DJWc",
        "outputId": "7bef1d40-bba9-49b0-cc40-3a05d364a1fb"
      },
      "outputs": [
        {
          "data": {
            "image/png": "[encoded data removed]",
            "text/plain": [
              "<Figure size 1000x700 with 2 Axes>"
            ]
          },
          "metadata": {},
          "output_type": "display_data"
        }
      ],
      "source": [
        "import matplotlib.pyplot as plt\n",
        "import seaborn as sns\n",
        "\n",
        "# Create the figure and plot the heatmap\n",
        "plt.figure(figsize=(10, 7))\n",
        "heatmap = sns.heatmap(conf_matrix, annot=True, fmt='d', cmap='Blues', xticklabels=class_labels, yticklabels=class_labels)\n",
        "plt.title('Confusion Matrix')\n",
        "plt.ylabel('True Label')\n",
        "plt.xlabel('Predicted Label')\n",
        "\n",
        "# Save the figure before showing it\n",
        "plt.savefig('confusion_matrix.png', dpi=300)  # Save with a higher resolution\n",
        "\n",
        "# Show the plot\n",
        "plt.show()\n",
        "\n",
        "# Close the plot to free up memory\n",
        "plt.close()\n"
      ]
    }
  ],
  "metadata": {
    "accelerator": "GPU",
    "colab": {
      "gpuType": "T4",
      "provenance": []
    },
    "kernelspec": {
      "display_name": "Python 3",
      "name": "python3"
    },
    "language_info": {
      "name": "python"
    }
  },
  "nbformat": 4,
  "nbformat_minor": 0
}
